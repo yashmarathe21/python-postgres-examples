{
 "cells": [
  {
   "cell_type": "code",
   "execution_count": 1,
   "metadata": {},
   "outputs": [],
   "source": [
    "import psycopg2\n",
    "import random\n",
    "import string\n",
    "import time\n",
    "from tqdm import tqdm"
   ]
  },
  {
   "cell_type": "code",
   "execution_count": 2,
   "metadata": {},
   "outputs": [],
   "source": [
    "# Database Information\n",
    "DATABASE_NAME = \"users_test1\"\n",
    "DATABASE_USERNAME = \"\"\n",
    "DATABASE_PASSWORD = \"\"\n",
    "DATABASE_HOST = \"localhost\"\n",
    "DATABASE_POST = \"5432\"\n",
    "\n",
    "# NOTE: Please ensure DATABASE_NAME (users_test1 in this case) database exists in the Postgres server\n",
    "\n",
    "# Establishing the connection\n",
    "conn = psycopg2.connect(\n",
    "   database=DATABASE_NAME, user=DATABASE_USERNAME, password=DATABASE_PASSWORD, host=DATABASE_HOST, port=DATABASE_POST\n",
    ")\n",
    "\n",
    "# Creating a cursor object using the cursor() method\n",
    "cursor = conn.cursor()"
   ]
  },
  {
   "cell_type": "code",
   "execution_count": 3,
   "metadata": {},
   "outputs": [
    {
     "name": "stdout",
     "output_type": "stream",
     "text": [
      "Table created successfully\n"
     ]
    }
   ],
   "source": [
    "# Droping EMPLOYEE table if already exists.\n",
    "cursor.execute(\"DROP TABLE IF EXISTS EMPLOYEE\")\n",
    "\n",
    "# Creating table as per requirement\n",
    "sql ='''CREATE TABLE EMPLOYEE(\n",
    "   FIRST_NAME CHAR(20) NOT NULL,\n",
    "   LAST_NAME CHAR(20),\n",
    "   AGE INT,\n",
    "   SEX CHAR(1),\n",
    "   INCOME FLOAT\n",
    ")'''\n",
    "\n",
    "cursor.execute(sql)\n",
    "conn.commit()\n",
    "\n",
    "print(\"Table created successfully\")"
   ]
  },
  {
   "cell_type": "code",
   "execution_count": 4,
   "metadata": {},
   "outputs": [
    {
     "name": "stderr",
     "output_type": "stream",
     "text": [
      "100%|██████████| 500000/500000 [00:23<00:00, 21566.21it/s]"
     ]
    },
    {
     "name": "stdout",
     "output_type": "stream",
     "text": [
      "Records inserted\n"
     ]
    },
    {
     "name": "stderr",
     "output_type": "stream",
     "text": [
      "\n"
     ]
    }
   ],
   "source": [
    "# Preparing SQL queries to INSERT a record into the database.\n",
    "for i in tqdm(range(0, 500000)):\n",
    "    sql = f'''\n",
    "        INSERT INTO EMPLOYEE(\n",
    "            FIRST_NAME, \n",
    "            LAST_NAME, \n",
    "            AGE, \n",
    "            SEX,\n",
    "            INCOME\n",
    "        ) VALUES (\n",
    "            '{''.join(random.choices(string.ascii_uppercase + string.ascii_lowercase, k=5))}', \n",
    "            '{''.join(random.choices(string.ascii_uppercase + string.ascii_lowercase, k=5))}', \n",
    "            {random.randint(22, 58)}, \n",
    "            '{random.choice(['F','M'])}', \n",
    "            {random.randint(100000, 1000000)}\n",
    "        )\n",
    "    '''\n",
    "    cursor.execute(sql)\n",
    "\n",
    "# Commit your changes in the database\n",
    "conn.commit()\n",
    "\n",
    "print(\"Records inserted\")"
   ]
  },
  {
   "attachments": {},
   "cell_type": "markdown",
   "metadata": {},
   "source": [
    "# Testing Index on age column"
   ]
  },
  {
   "cell_type": "code",
   "execution_count": 5,
   "metadata": {},
   "outputs": [
    {
     "data": {
      "text/plain": [
       "[('Gather  (cost=1000.00..10646.17 rows=13600 width=56) (actual time=0.297..19.756 rows=13447 loops=1)',),\n",
       " ('  Workers Planned: 2',),\n",
       " ('  Workers Launched: 2',),\n",
       " ('  ->  Parallel Seq Scan on employee  (cost=0.00..8286.17 rows=5667 width=56) (actual time=0.016..14.034 rows=4482 loops=3)',),\n",
       " ('        Filter: (age = 34)',),\n",
       " ('        Rows Removed by Filter: 162184',),\n",
       " ('Planning Time: 0.181 ms',),\n",
       " ('Execution Time: 20.289 ms',)]"
      ]
     },
     "execution_count": 5,
     "metadata": {},
     "output_type": "execute_result"
    }
   ],
   "source": [
    "# Querying without index\n",
    "sql = '''\n",
    "    EXPLAIN ANALYZE SELECT * FROM EMPLOYEE WHERE age = 34;\n",
    "'''\n",
    "cursor.execute(sql)\n",
    "cursor.fetchall()"
   ]
  },
  {
   "cell_type": "code",
   "execution_count": 10,
   "metadata": {},
   "outputs": [],
   "source": [
    "# Create an index on age column\n",
    "sql = '''\n",
    "    CREATE INDEX IDX_EMPLOYEE_AGE \n",
    "    ON EMPLOYEE(age);\n",
    "'''\n",
    "cursor.execute(sql)\n",
    "conn.commit()"
   ]
  },
  {
   "cell_type": "code",
   "execution_count": 11,
   "metadata": {},
   "outputs": [
    {
     "data": {
      "text/plain": [
       "[('Bitmap Heap Scan on employee  (cost=257.82..6109.82 rows=13600 width=56) (actual time=1.289..6.261 rows=13447 loops=1)',),\n",
       " ('  Recheck Cond: (age = 34)',),\n",
       " ('  Heap Blocks: exact=5188',),\n",
       " ('  ->  Bitmap Index Scan on idx_employee_age  (cost=0.00..254.42 rows=13600 width=0) (actual time=0.820..0.821 rows=13447 loops=1)',),\n",
       " ('        Index Cond: (age = 34)',),\n",
       " ('Planning Time: 0.178 ms',),\n",
       " ('Execution Time: 6.547 ms',)]"
      ]
     },
     "execution_count": 11,
     "metadata": {},
     "output_type": "execute_result"
    }
   ],
   "source": [
    "# Querying with index\n",
    "sql = '''\n",
    "    EXPLAIN ANALYZE SELECT * FROM EMPLOYEE WHERE age = 34;\n",
    "'''\n",
    "cursor.execute(sql)\n",
    "cursor.fetchall()"
   ]
  },
  {
   "cell_type": "code",
   "execution_count": null,
   "metadata": {},
   "outputs": [],
   "source": []
  }
 ],
 "metadata": {
  "kernelspec": {
   "display_name": "venv",
   "language": "python",
   "name": "python3"
  },
  "language_info": {
   "codemirror_mode": {
    "name": "ipython",
    "version": 3
   },
   "file_extension": ".py",
   "mimetype": "text/x-python",
   "name": "python",
   "nbconvert_exporter": "python",
   "pygments_lexer": "ipython3",
   "version": "3.8.10"
  },
  "orig_nbformat": 4,
  "vscode": {
   "interpreter": {
    "hash": "26e359a0ac7203c91380e5c6e970bdc77044c379c89acdfc98167ae2dcf3624d"
   }
  }
 },
 "nbformat": 4,
 "nbformat_minor": 2
}
