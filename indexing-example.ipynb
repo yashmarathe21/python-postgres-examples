{
 "cells": [
  {
   "cell_type": "code",
   "execution_count": 2,
   "metadata": {},
   "outputs": [],
   "source": [
    "import psycopg2\n",
    "import random\n",
    "import string\n",
    "import time\n",
    "from tqdm import tqdm"
   ]
  },
  {
   "cell_type": "code",
   "execution_count": 4,
   "metadata": {},
   "outputs": [],
   "source": [
    "# Database Information\n",
    "DATABASE_NAME = \"\"\n",
    "DATABASE_USERNAME = \"\"\n",
    "DATABASE_PASSWORD = \"\"\n",
    "DATABASE_HOST = \"\"\n",
    "DATABASE_POST = \"\"\n",
    "\n",
    "# Establishing the connection\n",
    "conn = psycopg2.connect(\n",
    "   database=DATABASE_NAME, user=DATABASE_USERNAME, password=DATABASE_PASSWORD, host=DATABASE_HOST, port=DATABASE_POST\n",
    ")\n",
    "\n",
    "# Creating a cursor object using the cursor() method\n",
    "cursor = conn.cursor()"
   ]
  },
  {
   "cell_type": "code",
   "execution_count": null,
   "metadata": {},
   "outputs": [],
   "source": []
  },
  {
   "cell_type": "code",
   "execution_count": null,
   "metadata": {},
   "outputs": [],
   "source": []
  }
 ],
 "metadata": {
  "kernelspec": {
   "display_name": "venv",
   "language": "python",
   "name": "python3"
  },
  "language_info": {
   "codemirror_mode": {
    "name": "ipython",
    "version": 3
   },
   "file_extension": ".py",
   "mimetype": "text/x-python",
   "name": "python",
   "nbconvert_exporter": "python",
   "pygments_lexer": "ipython3",
   "version": "3.8.10"
  },
  "orig_nbformat": 4,
  "vscode": {
   "interpreter": {
    "hash": "26e359a0ac7203c91380e5c6e970bdc77044c379c89acdfc98167ae2dcf3624d"
   }
  }
 },
 "nbformat": 4,
 "nbformat_minor": 2
}
